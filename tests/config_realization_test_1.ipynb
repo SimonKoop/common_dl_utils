{
 "cells": [
  {
   "cell_type": "code",
   "execution_count": 1,
   "metadata": {},
   "outputs": [],
   "source": [
    "import sys\n",
    "sys.path.append('../src/')\n",
    "import common_dl_utils\n",
    "import pdb \n",
    "import traceback"
   ]
  },
  {
   "cell_type": "code",
   "execution_count": 2,
   "metadata": {},
   "outputs": [],
   "source": [
    "config_1 = {\n",
    "    \"model_type\": 'TestType2',  \n",
    "    \"architecture\": './test_classes.py',\n",
    "    \"TestType2_config\": {\n",
    "        'param_1': 121,\n",
    "        'param_2': 122,\n",
    "        'toggle_1': True, \n",
    "        'sub_model_tt2': 'TestType1'\n",
    "    },\n",
    "    \"TestType1_config\":{\n",
    "        'param_1': 111,\n",
    "        'param_2': 112,\n",
    "        'toggle_1': True,\n",
    "        'toggle_2': False\n",
    "    }\n",
    "}"
   ]
  },
  {
   "cell_type": "code",
   "execution_count": 3,
   "metadata": {},
   "outputs": [
    {
     "name": "stdout",
     "output_type": "stream",
     "text": [
      "PostponedInitialization(cls=TestType2, kwargs={'param_1': 121, 'param_2': 122, 'toggle_1': True, 'sub_model_tt2': PostponedInitialization(cls=TestType1, kwargs={'param_1': 111, 'param_2': 112, 'toggle_1': True, 'toggle_2': False}, missing_args=[])}, missing_args=[])\n",
      "True\n",
      "TestType2(param_1=121, param_2=122, toggle_1=True, sub_model_tt2=TestType1(param_1=111, param_2=112, toggle_1=True, toggle_2=False))\n"
     ]
    }
   ],
   "source": [
    "try:\n",
    "    pi = common_dl_utils.config_realization.get_model_from_config(\n",
    "        config=config_1,\n",
    "        sub_config_from_param_name=False,\n",
    "        initialize=False\n",
    "    )\n",
    "    print(pi)\n",
    "    print(pi.is_complete())\n",
    "    print(pi.initialize())\n",
    "except Exception as e:\n",
    "    print(e)\n",
    "    traceback.print_exc()\n",
    "    pdb.post_mortem()"
   ]
  },
  {
   "cell_type": "code",
   "execution_count": 4,
   "metadata": {},
   "outputs": [
    {
     "name": "stdout",
     "output_type": "stream",
     "text": [
      "TestType2(param_1=121, param_2=122, toggle_1=True, sub_model_tt2=TestType1(param_1=1110, param_2=1120, toggle_1=True, toggle_2=False))\n"
     ]
    }
   ],
   "source": [
    "config_2 = {\n",
    "    \"model_type\": 'TestType2',  \n",
    "    \"architecture\": './test_classes.py',\n",
    "    \"TestType2_config\": {\n",
    "        'param_1': 121,\n",
    "        'param_2': 122,\n",
    "        'toggle_1': True, \n",
    "        'sub_model_tt2': 'TestType1', \n",
    "        'TestType1_config': {\n",
    "            'param_1': 1110,\n",
    "            'param_2': 1120\n",
    "        }\n",
    "    },\n",
    "    \"TestType1_config\":{\n",
    "        'param_1': 111,\n",
    "        'param_2': 112,\n",
    "        'toggle_1': True,\n",
    "        'toggle_2': False\n",
    "    }\n",
    "}\n",
    "try:\n",
    "    print(common_dl_utils.config_realization.get_model_from_config(\n",
    "        config=config_2,\n",
    "        sub_config_from_param_name=False\n",
    "    ))\n",
    "except Exception as e:\n",
    "    traceback.print_exc()"
   ]
  },
  {
   "cell_type": "code",
   "execution_count": 5,
   "metadata": {},
   "outputs": [
    {
     "name": "stdout",
     "output_type": "stream",
     "text": [
      "TestType2(param_1=121, param_2=122, toggle_1=True, sub_model_tt2=TestType3(param_1=1310, param_2=1320, toggle_1=False, toggle_2=True, sub_model_tt3=TestType1(param_1=1110, param_2=11200, toggle_1=True, toggle_2=True)))\n"
     ]
    }
   ],
   "source": [
    "config_3 = {\n",
    "    \"model_type\": 'TestType2',  \n",
    "    \"architecture\": './test_classes.py',\n",
    "    \"TestType2_config\": {\n",
    "        'param_1': 121,\n",
    "        'param_2': 122,\n",
    "        'toggle_1': True, \n",
    "        'sub_model_tt2': 'TestType3', \n",
    "        'TestType3_config': {\n",
    "            'param_1': 1310,\n",
    "            'param_2': 1320,\n",
    "            'toggle_1': False,\n",
    "            'sub_model_tt3': 'TestType1',\n",
    "            'TestType1_config': {\n",
    "                'param_2': 11200,\n",
    "                'toggle_2': True \n",
    "            }\n",
    "        },\n",
    "        'TestType1_config':{'param_1': 1110}\n",
    "    },\n",
    "    \"TestType1_config\":{\n",
    "        'param_1': 111,\n",
    "        'param_2': 112,\n",
    "        'toggle_1': True,\n",
    "        'toggle_2': False\n",
    "    },\n",
    "    \"TestType3_config\": {\n",
    "        'param_1': 131,\n",
    "        'param_2': 132,\n",
    "        'toggle_1': True,\n",
    "        'toggle_2': True,\n",
    "        'sub_model_tt3': 'TestType1'\n",
    "    }\n",
    "}\n",
    "try:\n",
    "    print(common_dl_utils.config_realization.get_model_from_config(\n",
    "        config=config_3,\n",
    "        sub_config_from_param_name=False\n",
    "    ))\n",
    "except Exception as e:\n",
    "    traceback.print_exc()"
   ]
  },
  {
   "cell_type": "code",
   "execution_count": 6,
   "metadata": {},
   "outputs": [
    {
     "name": "stdout",
     "output_type": "stream",
     "text": [
      "PostponedInitialization(cls=TestType4, kwargs={'elements': [PostponedInitialization(cls=TestType1, kwargs={'param_1': 11, 'param_2': 12, 'toggle_1': True, 'toggle_2': False}, missing_args=[]), PostponedInitialization(cls=TestType2, kwargs={'param_1': 21, 'param_2': 22, 'toggle_1': True, 'sub_model_tt2': PostponedInitialization(cls=TestType1, kwargs={'param_1': 211, 'param_2': 212, 'toggle_1': True, 'toggle_2': False}, missing_args=[])}, missing_args=[]), PostponedInitialization(cls=TestType3, kwargs={'param_1': 31, 'toggle_1': True, 'sub_model_tt3': PostponedInitialization(cls=TestType1, kwargs={'param_1': 31, 'toggle_1': True, 'param_2': 1112, 'toggle_2': True}, missing_args=[]), 'param_2': 1112, 'toggle_2': True}, missing_args=[])], 'some_func': <function register_type at 0x000001FC2526AE60>}, missing_args=[])\n",
      "True\n",
      "TestType4(elements=(TestType1(param_1=11, param_2=12, toggle_1=True, toggle_2=False), TestType2(param_1=21, param_2=22, toggle_1=True, sub_model_tt2=TestType1(param_1=211, param_2=212, toggle_1=True, toggle_2=False)), TestType3(param_1=31, param_2=1112, toggle_1=True, toggle_2=True, sub_model_tt3=TestType1(param_1=31, param_2=1112, toggle_1=True, toggle_2=True))), some_func=register_type)\n"
     ]
    }
   ],
   "source": [
    "config_4 = {\n",
    "    \"model_type\": 'TestType4',\n",
    "    \"architecture\": './test_classes.py',\n",
    "    \"elements\":[\n",
    "        (\"TestType1\", {'param_1': 11, 'param_2': 12, 'toggle_1': True, 'toggle_2': False}),\n",
    "        (\"TestType2\", {'param_1': 21, 'param_2': 22, 'toggle_1': True, 'sub_model_tt2': 'TestType1', 'sub_model_tt2_config': {'param_1': 211, 'param_2': 212}}),\n",
    "        (\"TestType3\", {'param_1': 31, 'toggle_1': True, 'sub_model_tt3': 'TestType1'})\n",
    "    ],\n",
    "    'sub_model_tt2_config': {'param_1': 111, 'param_2': 112, 'toggle_1': False, 'toggle_2': False},\n",
    "    'param_1': 1111,\n",
    "    'param_2': 1112,\n",
    "    'toggle_1': True,\n",
    "    'toggle_2': True,\n",
    "    'some_func': 'register_type'\n",
    "}\n",
    "try:\n",
    "    pi = common_dl_utils.config_realization.get_model_from_config(\n",
    "        config=config_4,\n",
    "        sub_config_from_param_name=True,\n",
    "        initialize=False\n",
    "    )\n",
    "    print(pi)\n",
    "    print(pi.is_complete())\n",
    "    print(pi.initialize())\n",
    "except Exception as e:\n",
    "    traceback.print_exc()\n",
    "    pdb.post_mortem()"
   ]
  },
  {
   "cell_type": "code",
   "execution_count": 7,
   "metadata": {},
   "outputs": [
    {
     "name": "stdout",
     "output_type": "stream",
     "text": [
      "PostponedInitialization(cls=TestType5, kwargs={'a': PostponedInitialization(cls=TestType1, kwargs={'param_1': 11, 'param_2': 12, 'toggle_1': True, 'toggle_2': False}, missing_args=[]), 'b': [PostponedInitialization(cls=TestType1, kwargs={'param_1': 111, 'param_2': 112, 'toggle_1': True, 'toggle_2': False}, missing_args=[]), PostponedInitialization(cls=TestType2, kwargs={'param_1': 121, 'param_2': 122, 'toggle_1': True, 'sub_model_tt2': PostponedInitialization(cls=TestType1, kwargs={'param_1': 121, 'param_2': 122, 'toggle_1': True, 'toggle_2': False}, missing_args=[])}, missing_args=[]), PostponedInitialization(cls=TestType1, kwargs={'param_1': 1, 'param_2': 2, 'toggle_1': True, 'toggle_2': True}, missing_args=[])], 'c': <class '_temp_module.TestType1'>, 'd': [PostponedInitialization(cls=TestType1, kwargs={'param_1': 10, 'param_2': 20, 'toggle_1': True, 'toggle_2': True}, missing_args=[]), <function register_type at 0x000001FC2526AE60>]}, missing_args=[])\n",
      "True\n",
      "TestType5(a=TestType1(param_1=11, param_2=12, toggle_1=True, toggle_2=False), b=[TestType1(param_1=111, param_2=112, toggle_1=True, toggle_2=False), TestType2(param_1=121, param_2=122, toggle_1=True, sub_model_tt2=TestType1(param_1=121, param_2=122, toggle_1=True, toggle_2=False)), TestType1(param_1=1, param_2=2, toggle_1=True, toggle_2=True)], c=<class '_temp_module.TestType1'>, d=[TestType1(param_1=10, param_2=20, toggle_1=True, toggle_2=True), <function register_type at 0x000001FC2526AE60>])\n"
     ]
    },
    {
     "name": "stderr",
     "output_type": "stream",
     "text": [
      "c:\\Users\\s129520\\Documents\\shared_dl_utils\\tests\\../src\\common_dl_utils\\_internal_utils.py:120: UserWarning: \n",
      "Upon checking whether maybe_prompt=('./test_classes.py', 'TestType1') is an extended prompt, we come to the conclusion that expected_outcome=True based on whether ./test_classes.py is a valid path. \n",
      "This check may result in weird bugs if ./test_classes.py is a not a valid path only due to a typo, or is a valid path but not intended to be one.\n",
      "  warnings.warn(\n",
      "c:\\Users\\s129520\\Documents\\shared_dl_utils\\tests\\../src\\common_dl_utils\\_internal_utils.py:120: UserWarning: \n",
      "Upon checking whether maybe_prompt=['TestType1', 'register_type'] is an extended prompt, we come to the conclusion that expected_outcome=False based on whether TestType1 is a valid path. \n",
      "This check may result in weird bugs if TestType1 is a not a valid path only due to a typo, or is a valid path but not intended to be one.\n",
      "  warnings.warn(\n"
     ]
    }
   ],
   "source": [
    "config_5a = {\n",
    "    \"model_type\": 'TestType5',  \n",
    "    \"architecture\": './test_classes.py',\n",
    "    \"a\": \"TestType1\",\n",
    "    \"a_config\": {\n",
    "        'param_1': 11,\n",
    "        'param_2': 12,\n",
    "        'toggle_1': True,\n",
    "        'toggle_2': False\n",
    "    },\n",
    "    \"b\": [\n",
    "        (\"TestType1\", {'param_1': 111, 'param_2': 112, 'toggle_1': True, 'toggle_2': False}),\n",
    "        (\"TestType2\", {'param_1': 121, 'param_2': 122, 'toggle_1': True, 'sub_model_tt2': 'TestType1'}),\n",
    "        (\"TestType1\",) # this really should be just a string, but it's kinda nice to support this as stylistic consistency\n",
    "    ],\n",
    "    # NB the following line is deceptive: param_1, param_2, and toggle_1 will already be set based on the local_config so only toggle_2 will be used from this\n",
    "    \"sub_model_tt2_config\": {'param_1': 211, 'param_2': 212, 'toggle_1': False, 'toggle_2': False},\n",
    "    \"b_config\": {'param_1': 1, 'param_2': 2, 'toggle_1': True, 'toggle_2': True},\n",
    "    \"c\": (\"./test_classes.py\", \"TestType1\"),\n",
    "    \"d\": [\n",
    "        \"TestType1\",\n",
    "        'register_type'\n",
    "    ],\n",
    "    'param_1': 10, \n",
    "    'param_2': 20, \n",
    "    'toggle_1': True, \n",
    "    'toggle_2': True,\n",
    "}\n",
    "try:\n",
    "    pi = common_dl_utils.config_realization.get_model_from_config(\n",
    "        config=config_5a,\n",
    "        sub_config_from_param_name=True,\n",
    "        initialize=False\n",
    "    )\n",
    "    print(pi)\n",
    "    print(pi.is_complete())\n",
    "    print(pi.initialize())\n",
    "except Exception as e:\n",
    "    traceback.print_exc()\n",
    "    pdb.post_mortem()"
   ]
  },
  {
   "cell_type": "code",
   "execution_count": 8,
   "metadata": {},
   "outputs": [
    {
     "name": "stdout",
     "output_type": "stream",
     "text": [
      "PostponedInitialization(cls=TestType5, kwargs={'a': PostponedInitialization(cls=TestType1, kwargs={'param_1': 11, 'param_2': 12, 'toggle_1': True, 'toggle_2': False}, missing_args=[]), 'b': PostponedInitialization(cls=TestType1, kwargs={'param_1': 1, 'param_2': 2, 'toggle_1': False, 'toggle_2': False}, missing_args=[]), 'c': [<class 'architecture.TestType1'>, functools.partial(<class 'architecture.TestType1'>, toggle_1=True, toggle_2=True)], 'd': PostponedInitialization(cls=TestType1, kwargs={'param_1': 1, 'param_2': 2, 'toggle_1': False, 'toggle_2': False}, missing_args=[])}, missing_args=[])\n",
      "True\n",
      "TestType5(a=TestType1(param_1=11, param_2=12, toggle_1=True, toggle_2=False), b=TestType1(param_1=1, param_2=2, toggle_1=False, toggle_2=False), c=[<class 'architecture.TestType1'>, functools.partial(<class 'architecture.TestType1'>, toggle_1=True, toggle_2=True)], d=TestType1(param_1=1, param_2=2, toggle_1=False, toggle_2=False))\n"
     ]
    },
    {
     "name": "stderr",
     "output_type": "stream",
     "text": [
      "c:\\Users\\s129520\\Documents\\shared_dl_utils\\tests\\../src\\common_dl_utils\\_internal_utils.py:120: UserWarning: \n",
      "Upon checking whether maybe_prompt=['./test_classes.py', 'TestType1'] is an extended prompt, we come to the conclusion that expected_outcome=True based on whether ./test_classes.py is a valid path. \n",
      "This check may result in weird bugs if ./test_classes.py is a not a valid path only due to a typo, or is a valid path but not intended to be one.\n",
      "  warnings.warn(\n"
     ]
    }
   ],
   "source": [
    "config_5b = {\n",
    "    \"model_type\": 'TestType5',  \n",
    "    \"architecture\": './test_classes.py',\n",
    "    \"a\": \"TestType1\",\n",
    "    \"a_config\": {\n",
    "        'param_1': 11,\n",
    "        'param_2': 12,\n",
    "        'toggle_1': True,\n",
    "        'toggle_2': False\n",
    "    },\n",
    "    \"b\": [\"./test_classes.py\", \"TestType1\"],\n",
    "    \"c\": [\n",
    "        \"TestType1\",\n",
    "        (\"TestType1\", {'toggle_1': True, 'toggle_2': True}),  # should be wrapped in a partial\n",
    "        ],\n",
    "    \"d\": \"TestType1\",\n",
    "    'param_1': 1,\n",
    "    'param_2': 2,\n",
    "    'toggle_1': False,\n",
    "    'toggle_2': False,\n",
    "}\n",
    "try:\n",
    "    pi = common_dl_utils.config_realization.get_model_from_config(\n",
    "        config=config_5b,\n",
    "        sub_config_from_param_name=True,\n",
    "        initialize=False\n",
    "    )\n",
    "    print(pi)\n",
    "    print(pi.is_complete())\n",
    "    print(pi.initialize())\n",
    "except Exception as e:\n",
    "    traceback.print_exc()\n",
    "    pdb.post_mortem()"
   ]
  },
  {
   "cell_type": "code",
   "execution_count": 9,
   "metadata": {},
   "outputs": [
    {
     "name": "stdout",
     "output_type": "stream",
     "text": [
      "PostponedInitialization(cls=TestType4, kwargs={'elements': [PostponedInitialization(cls=TestType5, kwargs={'a': PostponedInitialization(cls=TestType1, kwargs={'param_1': 1, 'param_2': 2, 'toggle_1': False, 'toggle_2': False}, missing_args=[]), 'b': [PostponedInitialization(cls=TestType1, kwargs={'param_1': 1, 'param_2': 2, 'toggle_1': False, 'toggle_2': False}, missing_args=[]), PostponedInitialization(cls=TestType1, kwargs={'param_1': 0, 'param_2': 2, 'toggle_1': False, 'toggle_2': False}, missing_args=[])], 'c': <class 'architecture.TestType1'>, 'd': PostponedInitialization(cls=TestType1, kwargs={'param_1': 1, 'param_2': 2, 'toggle_1': False, 'toggle_2': False}, missing_args=[])}, missing_args=[]), PostponedInitialization(cls=TestType1, kwargs={'param_2': 0, 'param_1': 1, 'toggle_1': False, 'toggle_2': False}, missing_args=[])], 'some_func': <function register_type at 0x000001FC2526AE60>}, missing_args=[])\n",
      "True\n",
      "TestType4(elements=(TestType5(a=TestType1(param_1=1, param_2=2, toggle_1=False, toggle_2=False), b=[TestType1(param_1=1, param_2=2, toggle_1=False, toggle_2=False), TestType1(param_1=0, param_2=2, toggle_1=False, toggle_2=False)], c=<class 'architecture.TestType1'>, d=TestType1(param_1=1, param_2=2, toggle_1=False, toggle_2=False)), TestType1(param_1=1, param_2=0, toggle_1=False, toggle_2=False)), some_func=register_type)\n"
     ]
    }
   ],
   "source": [
    "config_6 = {\n",
    "    \"model_type\": 'TestType4',  \n",
    "    \"architecture\": './test_classes.py',\n",
    "    \"elements\": [\n",
    "        (\"TestType5\", {\n",
    "            'a': \"TestType1\",\n",
    "            'b': [\"TestType1\", (\"TestType1\", {'param_1':0})],\n",
    "            'c': \"TestType1\",\n",
    "            'd': \"TestType1\",\n",
    "        }),\n",
    "        (\"TestType1\", {'param_2':0})\n",
    "    ],\n",
    "    'some_func': 'register_type',\n",
    "    'param_1':1,\n",
    "    'param_2':2,\n",
    "    'toggle_1': False,\n",
    "    'toggle_2': False\n",
    "}\n",
    "try:\n",
    "    pi = common_dl_utils.config_realization.get_model_from_config(\n",
    "        config=config_6,\n",
    "        sub_config_from_param_name=True,\n",
    "        initialize=False\n",
    "    )\n",
    "    print(pi)\n",
    "    print(pi.is_complete())\n",
    "    print(pi.initialize())\n",
    "except Exception as e:\n",
    "    traceback.print_exc()\n",
    "    pdb.post_mortem()"
   ]
  },
  {
   "cell_type": "code",
   "execution_count": null,
   "metadata": {},
   "outputs": [],
   "source": []
  }
 ],
 "metadata": {
  "kernelspec": {
   "display_name": "Python 3",
   "language": "python",
   "name": "python3"
  },
  "language_info": {
   "codemirror_mode": {
    "name": "ipython",
    "version": 3
   },
   "file_extension": ".py",
   "mimetype": "text/x-python",
   "name": "python",
   "nbconvert_exporter": "python",
   "pygments_lexer": "ipython3",
   "version": "3.10.13"
  },
  "orig_nbformat": 4
 },
 "nbformat": 4,
 "nbformat_minor": 2
}
