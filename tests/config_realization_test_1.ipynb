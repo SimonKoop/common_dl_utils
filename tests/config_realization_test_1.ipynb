{
 "cells": [
  {
   "cell_type": "code",
   "execution_count": 3,
   "metadata": {},
   "outputs": [],
   "source": [
    "import sys\n",
    "sys.path.append('../src/')\n",
    "import common_dl_utils\n",
    "import pdb \n",
    "import traceback"
   ]
  },
  {
   "cell_type": "code",
   "execution_count": 2,
   "metadata": {},
   "outputs": [],
   "source": [
    "config_1 = {\n",
    "    \"model_type\": 'TestType2',  \n",
    "    \"architecture\": './test_classes.py',\n",
    "    \"TestType2_config\": {\n",
    "        'param_1': 121,\n",
    "        'param_2': 122,\n",
    "        'toggle_1': True, \n",
    "        'sub_model_tt2': 'TestType1'\n",
    "    },\n",
    "    \"TestType1_config\":{\n",
    "        'param_1': 111,\n",
    "        'param_2': 112,\n",
    "        'toggle_1': True,\n",
    "        'toggle_2': False\n",
    "    }\n",
    "}"
   ]
  },
  {
   "cell_type": "code",
   "execution_count": 3,
   "metadata": {},
   "outputs": [
    {
     "name": "stdout",
     "output_type": "stream",
     "text": [
      "True\n",
      "True\n",
      "True\n"
     ]
    }
   ],
   "source": [
    "from collections.abc import Mapping, Sequence, Collection\n",
    "print(isinstance(config_1, Mapping))\n",
    "print(isinstance('TestType2_config', Sequence))\n",
    "print(isinstance('TestType2_config', Collection))"
   ]
  },
  {
   "cell_type": "code",
   "execution_count": 4,
   "metadata": {},
   "outputs": [
    {
     "data": {
      "text/plain": [
       "True"
      ]
     },
     "execution_count": 4,
     "metadata": {},
     "output_type": "execute_result"
    }
   ],
   "source": [
    "from common_dl_utils.trees import has_index\n",
    "has_index(config_1, 'TestType2_config')"
   ]
  },
  {
   "cell_type": "code",
   "execution_count": 5,
   "metadata": {},
   "outputs": [
    {
     "name": "stdout",
     "output_type": "stream",
     "text": [
      "TestType2(param_1=121, param_2=122, toggle_1=True, sub_model_tt2=TestType1(param_1=111, param_2=112, toggle_1=True, toggle_2=False))\n"
     ]
    }
   ],
   "source": [
    "try:\n",
    "    print(common_dl_utils.config_realization.get_model_from_config(\n",
    "        config=config_1,\n",
    "        sub_config_from_param_name=False,\n",
    "    ))\n",
    "except Exception as e:\n",
    "    print(e)\n",
    "    traceback.print_exc()\n",
    "    pdb.post_mortem()"
   ]
  },
  {
   "cell_type": "code",
   "execution_count": 6,
   "metadata": {},
   "outputs": [
    {
     "name": "stdout",
     "output_type": "stream",
     "text": [
      "TestType2(param_1=121, param_2=122, toggle_1=True, sub_model_tt2=TestType1(param_1=1110, param_2=1120, toggle_1=True, toggle_2=False))\n"
     ]
    }
   ],
   "source": [
    "config_2 = {\n",
    "    \"model_type\": 'TestType2',  \n",
    "    \"architecture\": './test_classes.py',\n",
    "    \"TestType2_config\": {\n",
    "        'param_1': 121,\n",
    "        'param_2': 122,\n",
    "        'toggle_1': True, \n",
    "        'sub_model_tt2': 'TestType1', \n",
    "        'TestType1_config': {\n",
    "            'param_1': 1110,\n",
    "            'param_2': 1120\n",
    "        }\n",
    "    },\n",
    "    \"TestType1_config\":{\n",
    "        'param_1': 111,\n",
    "        'param_2': 112,\n",
    "        'toggle_1': True,\n",
    "        'toggle_2': False\n",
    "    }\n",
    "}\n",
    "try:\n",
    "    print(common_dl_utils.config_realization.get_model_from_config(\n",
    "        config=config_2,\n",
    "        sub_config_from_param_name=False\n",
    "    ))\n",
    "except Exception as e:\n",
    "    traceback.print_exc()"
   ]
  },
  {
   "cell_type": "code",
   "execution_count": 7,
   "metadata": {},
   "outputs": [
    {
     "name": "stdout",
     "output_type": "stream",
     "text": [
      "TestType2(param_1=121, param_2=122, toggle_1=True, sub_model_tt2=TestType3(param_1=1310, param_2=1320, toggle_1=False, toggle_2=True, sub_model_tt3=TestType1(param_1=1110, param_2=11200, toggle_1=True, toggle_2=True)))\n"
     ]
    }
   ],
   "source": [
    "config_3 = {\n",
    "    \"model_type\": 'TestType2',  \n",
    "    \"architecture\": './test_classes.py',\n",
    "    \"TestType2_config\": {\n",
    "        'param_1': 121,\n",
    "        'param_2': 122,\n",
    "        'toggle_1': True, \n",
    "        'sub_model_tt2': 'TestType3', \n",
    "        'TestType3_config': {\n",
    "            'param_1': 1310,\n",
    "            'param_2': 1320,\n",
    "            'toggle_1': False,\n",
    "            'sub_model_tt3': 'TestType1',\n",
    "            'TestType1_config': {\n",
    "                'param_2': 11200,\n",
    "                'toggle_2': True \n",
    "            }\n",
    "        },\n",
    "        'TestType1_config':{'param_1': 1110}\n",
    "    },\n",
    "    \"TestType1_config\":{\n",
    "        'param_1': 111,\n",
    "        'param_2': 112,\n",
    "        'toggle_1': True,\n",
    "        'toggle_2': False\n",
    "    },\n",
    "    \"TestType3_config\": {\n",
    "        'param_1': 131,\n",
    "        'param_2': 132,\n",
    "        'toggle_1': True,\n",
    "        'toggle_2': True,\n",
    "        'sub_model_tt3': 'TestType1'\n",
    "    }\n",
    "}\n",
    "try:\n",
    "    print(common_dl_utils.config_realization.get_model_from_config(\n",
    "        config=config_3,\n",
    "        sub_config_from_param_name=False\n",
    "    ))\n",
    "except Exception as e:\n",
    "    traceback.print_exc()"
   ]
  },
  {
   "cell_type": "code",
   "execution_count": null,
   "metadata": {},
   "outputs": [],
   "source": []
  }
 ],
 "metadata": {
  "kernelspec": {
   "display_name": "Python 3",
   "language": "python",
   "name": "python3"
  },
  "language_info": {
   "codemirror_mode": {
    "name": "ipython",
    "version": 3
   },
   "file_extension": ".py",
   "mimetype": "text/x-python",
   "name": "python",
   "nbconvert_exporter": "python",
   "pygments_lexer": "ipython3",
   "version": "3.10.13"
  },
  "orig_nbformat": 4
 },
 "nbformat": 4,
 "nbformat_minor": 2
}
