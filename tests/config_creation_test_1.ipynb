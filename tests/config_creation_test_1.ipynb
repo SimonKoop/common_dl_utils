{
 "cells": [
  {
   "cell_type": "code",
   "execution_count": 1,
   "metadata": {},
   "outputs": [],
   "source": [
    "import sys\n",
    "sys.path.append('../src/')\n",
    "import common_dl_utils\n",
    "import pdb \n",
    "import traceback\n",
    "from pprint import pprint\n",
    "\n",
    "from common_dl_utils.config_creation import Config, VariableCollector"
   ]
  },
  {
   "cell_type": "code",
   "execution_count": 2,
   "metadata": {},
   "outputs": [
    {
     "name": "stdout",
     "output_type": "stream",
     "text": [
      "TestType2(param_1=121, param_2=122, toggle_1=True, sub_model_tt2=TestType1(param_1=111, param_2=112, toggle_1=True, toggle_2=False))\n",
      "TestType2(param_1=121, param_2=122, toggle_1=True, sub_model_tt2=TestType1(param_1=111, param_2=112, toggle_1=False, toggle_2=False))\n",
      "TestType2(param_1=112211, param_2=122, toggle_1=True, sub_model_tt2=TestType1(param_1=111111, param_2=112, toggle_1=True, toggle_2=False))\n",
      "TestType2(param_1=112211, param_2=122, toggle_1=True, sub_model_tt2=TestType1(param_1=111111, param_2=112, toggle_1=False, toggle_2=False))\n"
     ]
    }
   ],
   "source": [
    "variable = VariableCollector()\n",
    "config = Config()\n",
    "config.model_type = 'TestType2'\n",
    "config.architecture = './test_classes.py'\n",
    "config.TestType2_config = Config(\n",
    "    param_1 = variable(121, 112211, group='p1'), \n",
    "    param_2 = 122,\n",
    "    toggle_1 = True,\n",
    "    sub_model_tt2 = 'TestType1'\n",
    ")\n",
    "config.TestType1_config = Config(\n",
    "    param_1 = variable(111, 111111, group='p1'),\n",
    "    param_2 = 112,\n",
    "    toggle_1 = variable(True, False),\n",
    "    toggle_2 = False\n",
    ")\n",
    "\n",
    "\n",
    "try:\n",
    "    for c in variable.realizations(config):\n",
    "        #pprint(c)\n",
    "        print(common_dl_utils.config_realization.get_model_from_config(\n",
    "            config=c,\n",
    "            sub_config_from_param_name=False\n",
    "        ))\n",
    "except Exception as e:\n",
    "    traceback.print_exc()\n",
    "    pdb.post_mortem()\n",
    "\n"
   ]
  },
  {
   "cell_type": "code",
   "execution_count": 3,
   "metadata": {},
   "outputs": [
    {
     "name": "stdout",
     "output_type": "stream",
     "text": [
      "TestType2(param_1=121, param_2=122, toggle_1=True, sub_model_tt2=TestType1(param_1=111, param_2=112, toggle_1=True, toggle_2=False))\n",
      "TestType2(param_1=121, param_2=122, toggle_1=True, sub_model_tt2=TestType1(param_1=111, param_2=112, toggle_1=True, toggle_2=False))\n",
      "TestType2(param_1=121, param_2=122, toggle_1=True, sub_model_tt2=TestType1(param_1=111, param_2=112, toggle_1=False, toggle_2=False))\n",
      "TestType2(param_1=121, param_2=122, toggle_1=True, sub_model_tt2=TestType1(param_1=111, param_2=112, toggle_1=False, toggle_2=False))\n",
      "TestType2(param_1=121, param_2=122, toggle_1=True, sub_model_tt2=TestType3(param_1=131, param_2=132, toggle_1=True, toggle_2=False, sub_model_tt3=TestType1(param_1=111, param_2=112, toggle_1=True, toggle_2=False)))\n",
      "TestType2(param_1=121, param_2=122, toggle_1=True, sub_model_tt2=TestType3(param_1=131, param_2=132, toggle_1=False, toggle_2=False, sub_model_tt3=TestType1(param_1=111, param_2=112, toggle_1=True, toggle_2=False)))\n",
      "TestType2(param_1=121, param_2=122, toggle_1=True, sub_model_tt2=TestType3(param_1=131, param_2=132, toggle_1=True, toggle_2=False, sub_model_tt3=TestType1(param_1=111, param_2=112, toggle_1=True, toggle_2=False)))\n",
      "TestType2(param_1=121, param_2=122, toggle_1=True, sub_model_tt2=TestType3(param_1=131, param_2=132, toggle_1=False, toggle_2=False, sub_model_tt3=TestType1(param_1=111, param_2=112, toggle_1=True, toggle_2=False)))\n",
      "TestType2(param_1=112211, param_2=122, toggle_1=True, sub_model_tt2=TestType1(param_1=111111, param_2=112, toggle_1=True, toggle_2=False))\n",
      "TestType2(param_1=112211, param_2=122, toggle_1=True, sub_model_tt2=TestType1(param_1=111111, param_2=112, toggle_1=True, toggle_2=False))\n",
      "TestType2(param_1=112211, param_2=122, toggle_1=True, sub_model_tt2=TestType1(param_1=111111, param_2=112, toggle_1=False, toggle_2=False))\n",
      "TestType2(param_1=112211, param_2=122, toggle_1=True, sub_model_tt2=TestType1(param_1=111111, param_2=112, toggle_1=False, toggle_2=False))\n",
      "TestType2(param_1=112211, param_2=122, toggle_1=True, sub_model_tt2=TestType3(param_1=113311, param_2=132, toggle_1=True, toggle_2=False, sub_model_tt3=TestType1(param_1=111111, param_2=112, toggle_1=True, toggle_2=False)))\n",
      "TestType2(param_1=112211, param_2=122, toggle_1=True, sub_model_tt2=TestType3(param_1=113311, param_2=132, toggle_1=False, toggle_2=False, sub_model_tt3=TestType1(param_1=111111, param_2=112, toggle_1=True, toggle_2=False)))\n",
      "TestType2(param_1=112211, param_2=122, toggle_1=True, sub_model_tt2=TestType3(param_1=113311, param_2=132, toggle_1=True, toggle_2=False, sub_model_tt3=TestType1(param_1=111111, param_2=112, toggle_1=True, toggle_2=False)))\n",
      "TestType2(param_1=112211, param_2=122, toggle_1=True, sub_model_tt2=TestType3(param_1=113311, param_2=132, toggle_1=False, toggle_2=False, sub_model_tt3=TestType1(param_1=111111, param_2=112, toggle_1=True, toggle_2=False)))\n"
     ]
    }
   ],
   "source": [
    "variable = VariableCollector()\n",
    "config = Config()\n",
    "config.model_type = 'TestType2'\n",
    "config.architecture = './test_classes.py'\n",
    "config.TestType2_config = Config(\n",
    "    param_1 = variable(121, 112211, group='p1'), \n",
    "    param_2 = 122,\n",
    "    toggle_1 = True,\n",
    "    sub_model_tt2 = variable('TestType1', 'TestType3', group='submodel')\n",
    ")\n",
    "config.sub_model_tt2_config = variable(\n",
    "    Config(\n",
    "        param_1 = variable(111, 111111, group='p1'),\n",
    "        param_2 = 112,\n",
    "        toggle_1 = variable(True, False),\n",
    "        toggle_2 = False\n",
    "    ),\n",
    "    Config(\n",
    "        param_1 = variable(131, 113311, group='p1'),\n",
    "        param_2 = 132,\n",
    "        toggle_1=variable(True, False),\n",
    "        toggle_2 = False,\n",
    "        sub_model_tt3='TestType1',\n",
    "        sub_model_tt3_config=Config(\n",
    "            param_1 = variable(111, 111111, group='p1'),\n",
    "            param_2 = 112,\n",
    "            toggle_1 = True,\n",
    "            toggle_2 = False\n",
    "        )\n",
    "    ),\n",
    "    group='submodel'\n",
    ")\n",
    "\n",
    "\n",
    "try:\n",
    "    for c in variable.realizations(config):\n",
    "        #pprint(c)\n",
    "        print(common_dl_utils.config_realization.get_model_from_config(\n",
    "            config=c,\n",
    "            sub_config_from_param_name=True\n",
    "        ))\n",
    "except Exception as e:\n",
    "    traceback.print_exc()\n",
    "    pdb.post_mortem()"
   ]
  },
  {
   "cell_type": "code",
   "execution_count": 4,
   "metadata": {},
   "outputs": [],
   "source": [
    "variable = VariableCollector()\n",
    "config = Config()\n",
    "config.model_type = 'TestType2'\n",
    "config.architecture = './test_classes.py'\n",
    "config.TestType2_config = Config(\n",
    "    param_1 = variable(121, 112211), \n",
    "    param_2 = 122,\n",
    "    toggle_1 = True,\n",
    "    sub_model_tt2 = 'TestType3'\n",
    ")\n",
    "config.sub_model_tt2_config = Config(\n",
    "        param_1 = variable(131, 113311),\n",
    "        param_2 = 132,\n",
    "        toggle_1 = True,\n",
    "        toggle_2 = False,\n",
    "        sub_model_tt3='TestType1',\n",
    "        sub_model_tt3_config=Config(\n",
    "            param_1 = variable(distribution='int_uniform', min=1, max=111),\n",
    "            param_2 = 112,\n",
    "            toggle_1 = True,\n",
    "            toggle_2 = False\n",
    "        )\n",
    "    )\n",
    "\n",
    "\n",
    "try:\n",
    "    for c in variable.realizations(config):\n",
    "        #pprint(c)\n",
    "        print(common_dl_utils.config_realization.get_model_from_config(\n",
    "            config=c,\n",
    "            sub_config_from_param_name=True\n",
    "        ))\n",
    "except Exception as e:\n",
    "    traceback.print_exc()\n",
    "    pdb.post_mortem()"
   ]
  },
  {
   "cell_type": "code",
   "execution_count": 5,
   "metadata": {},
   "outputs": [
    {
     "data": {
      "text/plain": [
       "{'model_type': {'value': 'TestType2'},\n",
       " 'architecture': {'value': './test_classes.py'},\n",
       " 'TestType2_config__param_1': {'values': (121, 112211)},\n",
       " 'TestType2_config__param_2': {'value': 122},\n",
       " 'TestType2_config__toggle_1': {'value': True},\n",
       " 'TestType2_config__sub_model_tt2': {'value': 'TestType3'},\n",
       " 'sub_model_tt2_config__param_1': {'values': (131, 113311)},\n",
       " 'sub_model_tt2_config__param_2': {'value': 132},\n",
       " 'sub_model_tt2_config__toggle_1': {'value': True},\n",
       " 'sub_model_tt2_config__toggle_2': {'value': False},\n",
       " 'sub_model_tt2_config__sub_model_tt3': {'value': 'TestType1'},\n",
       " 'sub_model_tt2_config__sub_model_tt3_config__param_1': {'distribution': 'int_uniform',\n",
       "  'min': 1,\n",
       "  'max': 111},\n",
       " 'sub_model_tt2_config__sub_model_tt3_config__param_2': {'value': 112},\n",
       " 'sub_model_tt2_config__sub_model_tt3_config__toggle_1': {'value': True},\n",
       " 'sub_model_tt2_config__sub_model_tt3_config__toggle_2': {'value': False}}"
      ]
     },
     "execution_count": 5,
     "metadata": {},
     "output_type": "execute_result"
    }
   ],
   "source": [
    "common_dl_utils.config_creation.make_flat_config(config)"
   ]
  },
  {
   "cell_type": "code",
   "execution_count": 6,
   "metadata": {},
   "outputs": [
    {
     "name": "stdout",
     "output_type": "stream",
     "text": [
      "{'TestType2_config': {'param_1': {'values': (121, 112211)},\n",
      "                      'param_2': {'value': 122},\n",
      "                      'sub_model_tt2': {'value': 'TestType3'},\n",
      "                      'toggle_1': {'value': True}},\n",
      " 'architecture': {'value': './test_classes.py'},\n",
      " 'model_type': {'value': 'TestType2'},\n",
      " 'sub_model_tt2_config': {'param_1': {'values': (131, 113311)},\n",
      "                          'param_2': {'value': 132},\n",
      "                          'sub_model_tt3': {'value': 'TestType1'},\n",
      "                          'sub_model_tt3_config': {'param_1': {'distribution': 'int_uniform',\n",
      "                                                               'max': 111,\n",
      "                                                               'min': 1},\n",
      "                                                   'param_2': {'value': 112},\n",
      "                                                   'toggle_1': {'value': True},\n",
      "                                                   'toggle_2': {'value': False}},\n",
      "                          'toggle_1': {'value': True},\n",
      "                          'toggle_2': {'value': False}}}\n"
     ]
    }
   ],
   "source": [
    "pprint(common_dl_utils.config_creation.make_nested_config(common_dl_utils.config_creation.make_flat_config(config)))"
   ]
  },
  {
   "cell_type": "code",
   "execution_count": 7,
   "metadata": {},
   "outputs": [
    {
     "data": {
      "text/plain": [
       "{'TestType2_config__param_1': {'values': (121, 112211)},\n",
       " 'sub_model_tt2_config__param_1': {'values': (131, 113311)},\n",
       " 'sub_model_tt2_config__sub_model_tt3_config__param_1': {'distribution': 'int_uniform',\n",
       "  'min': 1,\n",
       "  'max': 111}}"
      ]
     },
     "execution_count": 7,
     "metadata": {},
     "output_type": "execute_result"
    }
   ],
   "source": [
    "common_dl_utils.config_creation.make_flat_config(config, variables_only=True)"
   ]
  },
  {
   "cell_type": "code",
   "execution_count": null,
   "metadata": {},
   "outputs": [],
   "source": []
  },
  {
   "cell_type": "code",
   "execution_count": null,
   "metadata": {},
   "outputs": [],
   "source": []
  }
 ],
 "metadata": {
  "kernelspec": {
   "display_name": "Python 3",
   "language": "python",
   "name": "python3"
  },
  "language_info": {
   "codemirror_mode": {
    "name": "ipython",
    "version": 3
   },
   "file_extension": ".py",
   "mimetype": "text/x-python",
   "name": "python",
   "nbconvert_exporter": "python",
   "pygments_lexer": "ipython3",
   "version": "3.10.13"
  },
  "orig_nbformat": 4
 },
 "nbformat": 4,
 "nbformat_minor": 2
}
